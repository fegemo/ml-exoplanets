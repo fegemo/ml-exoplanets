{
 "cells": [
  {
   "cell_type": "markdown",
   "id": "115f35d5",
   "metadata": {},
   "source": [
    "# TP1 - Detecção de Exoplanetas\n",
    "\n",
    "\n",
    "<dl>\n",
    "    <dt>**Aluno**</dt><dd>Flávio Coutinho</dd>\n",
    "    <dt>**Turma**</dt><dd>Aprendizado de Máquina, UFMG, 01/21</dd>\n",
    "    <dt>**Objetivo**</dt><dd>utilizar e comparar diferentes métodos de classificação para detectar exoplanetas a partir de dados do Kepler.</dd>\n",
    "</dl>\n",
    "\n",
    "Conteúdo deste _notebook_:\n",
    "- Descrição dos dados\n",
    "- Métodos de classificação:\n",
    "    - Naive Bayes\n",
    "    - Decision Tree\n",
    "    - SVM\n",
    "    - k-NN\n",
    "    - Random Forest\n",
    "    - Gradient Tree Boosting\n",
    "- Comparação dos métodos\n"
   ]
  },
  {
   "cell_type": "code",
   "execution_count": null,
   "id": "e121e5de",
   "metadata": {},
   "outputs": [],
   "source": []
  }
 ],
 "metadata": {
  "kernelspec": {
   "display_name": "Python 3",
   "language": "python",
   "name": "python3"
  },
  "language_info": {
   "codemirror_mode": {
    "name": "ipython",
    "version": 3
   },
   "file_extension": ".py",
   "mimetype": "text/x-python",
   "name": "python",
   "nbconvert_exporter": "python",
   "pygments_lexer": "ipython3",
   "version": "3.8.8"
  }
 },
 "nbformat": 4,
 "nbformat_minor": 5
}
